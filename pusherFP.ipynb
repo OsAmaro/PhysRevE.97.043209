{
 "cells": [
  {
   "cell_type": "markdown",
   "metadata": {},
   "source": [
    "# From quantum to classical modeling of radiation reaction: A focus on stochasticity effects\n",
    "paper: https://journals.aps.org/pre/abstract/10.1103/PhysRevE.97.043209\n",
    "\n",
    "In this notebook we apply the Fokker Planck pusher to reproduce figure 10 (energy loss of electrons in a constant magnetic field) from the paper by Niel et al.\n",
    "\n",
    "The change in energy per timestep is:\n",
    "$$\\mathrm{d} \\gamma = - S(\\chi) \\mathrm{d}t + \\sqrt{R(\\chi,\\gamma)} \\mathrm{d}W$$\n",
    "with $\\chi = 10^{-3} \\gamma[1800] B[2.5kT] $ and $S,R$ functions related to the rate of photon emission.\n",
    "\n",
    "The Wiener process $\\mathrm{d}W$ is simulated by drawing a normally distributed random number $\\mathcal{N}(0,1)$ and multiplying by $\\sqrt{dt}$."
   ]
  },
  {
   "cell_type": "code",
   "execution_count": 9,
   "metadata": {},
   "outputs": [],
   "source": [
    "# import auxiliary functions\n",
    "import pushers\n",
    "from pushers import *\n",
    "\n",
    "# choose name of file where to save\n",
    "filename = 'chi0_-1_FP' #"
   ]
  },
  {
   "cell_type": "code",
   "execution_count": 10,
   "metadata": {},
   "outputs": [
    {
     "name": "stdout",
     "output_type": "stream",
     "text": [
      "Number of particles = 50000\n",
      "chi0 = 0.1\n",
      "omega_p = 24428055705168.934\n",
      "Kalpha = alpha^2/tau_e/omega_p = 231915.97672953582\n",
      "number of timesteps = 1000\n",
      "dt = 0.005\n"
     ]
    }
   ],
   "source": [
    "# sampling\n",
    "Nsmpl = int(5e4); #[] number of particles\n",
    "print(\"Number of particles =\", Nsmpl)\n",
    "\n",
    "# initial conditions: Niel2018 page 17/27\n",
    "gmdist = 1800 + 90*rng.standard_normal(Nsmpl)\n",
    "gmdist[gmdist<1]=1 # make sure no particle has a physically inconsistent gamma\n",
    "gmdist_dump1 = np.copy(gmdist) #[] dump1\n",
    "gmdist_dump2 = np.copy(gmdist) * 0 #[] dump2\n",
    "gmdist_dump3 = np.copy(gmdist) * 0 #[] dump3\n",
    "\n",
    "# reference chi0\n",
    "chi0 = 1e-1; #[] {1e-3,1e-2,1e-1,1e0}\n",
    "print(\"chi0 =\",chi0)\n",
    "\n",
    "# reference omega_p\n",
    "omega_p = elementary_charge/electron_mass/1800 * 2.5e3 * (chi0/(1e-3))\n",
    "print(\"omega_p =\",omega_p)\n",
    "\n",
    "# dimensionless but physically relevant constant\n",
    "Kalpha = fine_structure * electron_mass * speed_of_light**2 / (hbar * omega_p)\n",
    "print(\"Kalpha = alpha^2/tau_e/omega_p =\",Kalpha)\n",
    "\n",
    "# simulation parameters\n",
    "tmax = 5 #[1/omega_p] simulation duration {20,20,5,5}\n",
    "tdim = 1000 #[]\n",
    "dt = tmax/tdim #[1/omega_p]\n",
    "print(\"number of timesteps =\", tdim)\n",
    "print(\"dt =\", dt)"
   ]
  },
  {
   "cell_type": "code",
   "execution_count": 11,
   "metadata": {},
   "outputs": [],
   "source": [
    "# interpolation\n",
    "gmlst = np.linspace(1,2*np.max(gmdist),200); #[]\n",
    "S_lst = np.array([S39(gm/1800*chi0,Kalpha) for gm in gmlst])\n",
    "S_intrp = interpolate.interp1d(gmlst, S_lst)\n",
    "R_lst = np.array([R40(gm/1800*chi0,gm,Kalpha) for gm in gmlst])\n",
    "R_intrp = interpolate.interp1d(gmlst, R_lst)"
   ]
  },
  {
   "cell_type": "code",
   "execution_count": null,
   "metadata": {},
   "outputs": [],
   "source": [
    "# for each time step\n",
    "for t in tqdm(range(tdim)):\n",
    "    \n",
    "    # for each particle\n",
    "    for i in range(Nsmpl):\n",
    "        \n",
    "        # interpolate S and R\n",
    "        S = S_intrp(gmdist[i]);\n",
    "        R = R_intrp(gmdist[i]);\n",
    "        \n",
    "        # Gaussian random number\n",
    "        dW = sqrt(dt) * np.random.randn()\n",
    "        \n",
    "        # Niel2018 eq 42\n",
    "        dgamma = -S * dt + sqrt(R) * dW\n",
    "        \n",
    "        # update gamma\n",
    "        gmdist[i] = gmdist[i] + dgamma\n",
    "        \n",
    "        # avoid unphysical energies\n",
    "        if gmdist[i] < 1:\n",
    "            gmdist[i] = 1\n",
    "            \n",
    "    # save distribution\n",
    "    if t == int(tdim/2):\n",
    "        gmdist_dump2 = np.copy(gmdist)\n",
    "            \n",
    "# save distribution\n",
    "gmdist_dump3 = np.copy(gmdist)"
   ]
  },
  {
   "cell_type": "code",
   "execution_count": null,
   "metadata": {},
   "outputs": [],
   "source": [
    "# get histograms\n",
    "nbins = 50\n",
    "\n",
    "# dump 1\n",
    "gmdist_y,gmdist_x = np.histogram(gmdist_dump1,np.linspace(1,1800+4*90,nbins))\n",
    "gmdist1_y, gmdist1_x = gmdist_y, np.array(arraycenter(gmdist_x))\n",
    "\n",
    "# dump 2\n",
    "gmdist_y,gmdist_x = np.histogram(gmdist_dump2,np.linspace(1,1800+4*90,nbins))\n",
    "gmdist2_y, gmdist2_x = gmdist_y, np.array(arraycenter(gmdist_x))\n",
    "\n",
    "# dump 3\n",
    "gmdist_y,gmdist_x = np.histogram(gmdist_dump3,np.linspace(1,1800+4*90,nbins))\n",
    "gmdist3_y, gmdist3_x = gmdist_y, np.array(arraycenter(gmdist_x))"
   ]
  },
  {
   "cell_type": "code",
   "execution_count": null,
   "metadata": {},
   "outputs": [],
   "source": [
    "# plot\n",
    "plt.plot(gmdist1_x/1800,gmdist1_y/np.max(gmdist1_y),'-r')\n",
    "plt.plot(gmdist2_x/1800,gmdist2_y/np.max(gmdist1_y),'-r')\n",
    "plt.plot(gmdist3_x/1800,gmdist3_y/np.max(gmdist1_y),'-r')\n",
    "plt.xlim([0,1.25])\n",
    "plt.ylim(np.array([1e-2,1e1]) )\n",
    "plt.yscale('log')\n",
    "plt.show()"
   ]
  },
  {
   "cell_type": "code",
   "execution_count": null,
   "metadata": {},
   "outputs": [],
   "source": [
    "# save results to pickle\n",
    "outfile = open(filename,'wb')\n",
    "pickle.dump([chi0, tmax, tdim, Nsmpl, gmdist_dump1, gmdist_dump2, gmdist_dump3],outfile)\n",
    "outfile.close()"
   ]
  }
 ],
 "metadata": {
  "kernelspec": {
   "display_name": "Python 3",
   "language": "python",
   "name": "python3"
  },
  "language_info": {
   "codemirror_mode": {
    "name": "ipython",
    "version": 3
   },
   "file_extension": ".py",
   "mimetype": "text/x-python",
   "name": "python",
   "nbconvert_exporter": "python",
   "pygments_lexer": "ipython3",
   "version": "3.7.4"
  }
 },
 "nbformat": 4,
 "nbformat_minor": 4
}
